{
 "cells": [
  {
   "cell_type": "code",
   "execution_count": null,
   "id": "035e1179",
   "metadata": {},
   "outputs": [],
   "source": [
    "#pip install selenium"
   ]
  },
  {
   "cell_type": "code",
   "execution_count": 1,
   "id": "7c035cba",
   "metadata": {},
   "outputs": [],
   "source": [
    "from selenium import webdriver\n",
    "\n",
    "# create instance of webdriver\n",
    "driver = webdriver.Chrome()\n",
    "\n"
   ]
  },
  {
   "cell_type": "code",
   "execution_count": 2,
   "id": "14924680",
   "metadata": {},
   "outputs": [
    {
     "name": "stdout",
     "output_type": "stream",
     "text": [
      "Page title is: Swag Labs\n"
     ]
    }
   ],
   "source": [
    "# launch application\n",
    "driver.get(\"https://www.saucedemo.com\")\n",
    "\n",
    "# get page title\n",
    "print(\"Page title is: \" + driver.title)\n",
    "\n"
   ]
  },
  {
   "cell_type": "code",
   "execution_count": 22,
   "id": "f8cad86b",
   "metadata": {},
   "outputs": [
    {
     "data": {
      "text/plain": [
       "'\\nBY.ID\\nBY.Class_Name\\nBY.Tag_Name\\nBY.Link_Text\\nBY.Partial_LInk_Test\\nBY.Css_Selector\\nBY.XPath\\n\\n'"
      ]
     },
     "execution_count": 22,
     "metadata": {},
     "output_type": "execute_result"
    }
   ],
   "source": [
    "'''\n",
    "BY.ID\n",
    "BY.Class_Name\n",
    "BY.Tag_Name\n",
    "BY.Link_Text\n",
    "BY.Partial_LInk_Test\n",
    "BY.Css_Selector\n",
    "BY.XPath\n",
    "\n",
    "'''"
   ]
  },
  {
   "cell_type": "markdown",
   "id": "0bec2e7f",
   "metadata": {},
   "source": [
    "Accepted: Username \n",
    "    1) standard_user\n",
    "password:\n",
    "    1) secret.sauce"
   ]
  },
  {
   "cell_type": "code",
   "execution_count": 5,
   "id": "40a3cde6",
   "metadata": {},
   "outputs": [],
   "source": [
    "import os\n",
    "from selenium import webdriver\n",
    "from selenium.webdriver.common.by import By\n",
    "\n",
    "\n",
    "#user_name = driver.find_element(By.ID, value= \"user-name\")\n",
    "#user_name.send_keys(\"standard_user\")"
   ]
  },
  {
   "cell_type": "code",
   "execution_count": 6,
   "id": "4768830d",
   "metadata": {},
   "outputs": [],
   "source": [
    " #Fetch the username from environment variables, with a fallback value\n",
    "username_value = os.environ.get('SCRUSER', 'standard_user')  # 'NEPPRK' is the fallback value\n",
    "\n",
    "# Find the username input field\n",
    "username = driver.find_element(By.ID, \"user-name\")\n",
    "\n",
    "# Clear the field if necessary\n",
    "username.clear()\n",
    "\n",
    "# Send the username value\n",
    "username.send_keys(username_value)  # Use the username_value variable he"
   ]
  },
  {
   "cell_type": "code",
   "execution_count": 7,
   "id": "b5e09f99",
   "metadata": {},
   "outputs": [],
   "source": [
    "# Find the password input field\n",
    "password = driver.find_element(By.ID, \"password\")\n",
    "\n",
    "# Clear the field if necessary\n",
    "password.clear()\n",
    "\n",
    "# Fetch the password from environment variables\n",
    "password_value = os.environ.get('SCRPASSWORD', 'secret_sauce')  # Provide a fallback value\n",
    "\n",
    "# Send the password value\n",
    "password.send_keys(password_value)"
   ]
  },
  {
   "cell_type": "code",
   "execution_count": 8,
   "id": "b882016a",
   "metadata": {},
   "outputs": [],
   "source": [
    "login = driver.find_element(By.CSS_SELECTOR, '#login-button') # select the associated code and control + right click , then copy the Css-selector\n",
    "login.click()"
   ]
  },
  {
   "cell_type": "code",
   "execution_count": 40,
   "id": "5d2a7393",
   "metadata": {},
   "outputs": [],
   "source": [
    "# Using TagName"
   ]
  },
  {
   "cell_type": "code",
   "execution_count": 17,
   "id": "fb6fbc06",
   "metadata": {},
   "outputs": [
    {
     "name": "stdout",
     "output_type": "stream",
     "text": [
      "data:image/png;base64,iVBORw0KGgoAAAANSUhEUgAAACAAAAAgCAYAAABzenr0AAAAGXRFWHRTb2Z0d2FyZQBBZG9iZSBJbWFnZVJlYWR5ccllPAAAAyhpVFh0WE1MOmNvbS5hZG9iZS54bXAAAAAAADw/eHBhY2tldCBiZWdpbj0i77u/IiBpZD0iVzVNME1wQ2VoaUh6cmVTek5UY3prYzlkIj8+IDx4OnhtcG1ldGEgeG1sbnM6eD0iYWRvYmU6bnM6bWV0YS8iIHg6eG1wdGs9IkFkb2JlIFhNUCBDb3JlIDkuMC1jMDAwIDc5LmRhNGE3ZTVlZiwgMjAyMi8xMS8yMi0xMzo1MDowNyAgICAgICAgIj4gPHJkZjpSREYgeG1sbnM6cmRmPSJodHRwOi8vd3d3LnczLm9yZy8xOTk5LzAyLzIyLXJkZi1zeW50YXgtbnMjIj4gPHJkZjpEZXNjcmlwdGlvbiByZGY6YWJvdXQ9IiIgeG1sbnM6eG1wPSJodHRwOi8vbnMuYWRvYmUuY29tL3hhcC8xLjAvIiB4bWxuczp4bXBNTT0iaHR0cDovL25zLmFkb2JlLmNvbS94YXAvMS4wL21tLyIgeG1sbnM6c3RSZWY9Imh0dHA6Ly9ucy5hZG9iZS5jb20veGFwLzEuMC9zVHlwZS9SZXNvdXJjZVJlZiMiIHhtcDpDcmVhdG9yVG9vbD0iQWRvYmUgUGhvdG9zaG9wIDI0LjEgKE1hY2ludG9zaCkiIHhtcE1NOkluc3RhbmNlSUQ9InhtcC5paWQ6QTA3QzBCMEVBRUYzMTFFREIwRThFMzc3OTlDRTMyNUIiIHhtcE1NOkRvY3VtZW50SUQ9InhtcC5kaWQ6QTA3QzBCMEZBRUYzMTFFREIwRThFMzc3OTlDRTMyNUIiPiA8eG1wTU06RGVyaXZlZEZyb20gc3RSZWY6aW5zdGFuY2VJRD0ieG1wLmlpZDpBMDdDMEIwQ0FFRjMxMUVEQjBFOEUzNzc5OUNFMzI1QiIgc3RSZWY6ZG9jdW1lbnRJRD0ieG1wLmRpZDpBMDdDMEIwREFFRjMxMUVEQjBFOEUzNzc5OUNFMzI1QiIvPiA8L3JkZjpEZXNjcmlwdGlvbj4gPC9yZGY6UkRGPiA8L3g6eG1wbWV0YT4gPD94cGFja2V0IGVuZD0iciI/Pq0LVkQAAAERSURBVHjaYvz//z/DQAImhgEGow5gARE379wx8IuN2f/2/XsBeliqqqj4YMHkKYHqKioXwCEwb+mSAnpZDgK3799XmL9sWT48CrQ1NS/QO+gtTUwOgmhGWDY8c+GCw9NnzxToYbm0lNQDEwODAygOGM2Gow4Y0ILo+YsXCgtWLM//+OkzXcoCfj7eDwkRURMlJcQfgB0wf/mygr6ZM/Pp6XNg7mOsKiwqGBxRkBAZNQFEf/r8hZ8elvLx8nxMiIyeMFoQjTpg8BREA1kdgx2wcdu2hOSiwvn09HlfY1NhXHj4BHAUHDt9yoHeQX/t5k19eBpIio6ZAGoo0styYUHBD4lRURNHC6JRB4w6AAQAAgwA/fRn191dMT8AAAAASUVORK5CYII=\n",
      "data:image/png;base64,iVBORw0KGgoAAAANSUhEUgAAACAAAAAgCAYAAABzenr0AAAAGXRFWHRTb2Z0d2FyZQBBZG9iZSBJbWFnZVJlYWR5ccllPAAAAyhpVFh0WE1MOmNvbS5hZG9iZS54bXAAAAAAADw/eHBhY2tldCBiZWdpbj0i77u/IiBpZD0iVzVNME1wQ2VoaUh6cmVTek5UY3prYzlkIj8+IDx4OnhtcG1ldGEgeG1sbnM6eD0iYWRvYmU6bnM6bWV0YS8iIHg6eG1wdGs9IkFkb2JlIFhNUCBDb3JlIDkuMC1jMDAwIDc5LmRhNGE3ZTVlZiwgMjAyMi8xMS8yMi0xMzo1MDowNyAgICAgICAgIj4gPHJkZjpSREYgeG1sbnM6cmRmPSJodHRwOi8vd3d3LnczLm9yZy8xOTk5LzAyLzIyLXJkZi1zeW50YXgtbnMjIj4gPHJkZjpEZXNjcmlwdGlvbiByZGY6YWJvdXQ9IiIgeG1sbnM6eG1wPSJodHRwOi8vbnMuYWRvYmUuY29tL3hhcC8xLjAvIiB4bWxuczp4bXBNTT0iaHR0cDovL25zLmFkb2JlLmNvbS94YXAvMS4wL21tLyIgeG1sbnM6c3RSZWY9Imh0dHA6Ly9ucy5hZG9iZS5jb20veGFwLzEuMC9zVHlwZS9SZXNvdXJjZVJlZiMiIHhtcDpDcmVhdG9yVG9vbD0iQWRvYmUgUGhvdG9zaG9wIDI0LjEgKE1hY2ludG9zaCkiIHhtcE1NOkluc3RhbmNlSUQ9InhtcC5paWQ6NkNCNjBCQjlBRUY4MTFFREIwRThFMzc3OTlDRTMyNUIiIHhtcE1NOkRvY3VtZW50SUQ9InhtcC5kaWQ6NkNCNjBCQkFBRUY4MTFFREIwRThFMzc3OTlDRTMyNUIiPiA8eG1wTU06RGVyaXZlZEZyb20gc3RSZWY6aW5zdGFuY2VJRD0ieG1wLmlpZDpBMDdDMEIxNEFFRjMxMUVEQjBFOEUzNzc5OUNFMzI1QiIgc3RSZWY6ZG9jdW1lbnRJRD0ieG1wLmRpZDo2Q0I2MEJCOEFFRjgxMUVEQjBFOEUzNzc5OUNFMzI1QiIvPiA8L3JkZjpEZXNjcmlwdGlvbj4gPC9yZGY6UkRGPiA8L3g6eG1wbWV0YT4gPD94cGFja2V0IGVuZD0iciI/PtV59sYAAAFSSURBVHjaYvz//z/DQAImhgEGow7AcMC0uXPrRTTU/3uFh5//8uWLAKUWgMyITEvbDzJzKtBsDAWgRIiMhdXV/sOwZ1jY+c+fPwugqyEWg/SCzEA2E10NRgi42dkfgLFPXbxgEJacvJ+ckADpAekFmQETM9M3uEAwBD4BXe2B5mpSQwKbz0H8T1jMwGoAJY4gxXKcDiDXEaRajtcBpDqCHMsJOoBYR5BrOVEOIOQISiwHYUZiK6PP0Gx1Gku2Qs9qK+fOdeTl4flAjLmMpNSG2ByBDEi1HGs5QE50kBrseEtCgkEGxbjkaFobYiteKS22mSgt202RyneyHEFp2U5p3UGVioUSR1CtYiHXEQzUrFjIcQTVLCfXEVS1nBxHYGim1HJ8johITd1P0AHUsByfIwg6YMqc2Q0ghVFpqfspsRybIyYDzSa7Oh7tmg1bBwAEGAACANpiovW4dgAAAABJRU5ErkJggg==\n",
      "data:image/png;base64,iVBORw0KGgoAAAANSUhEUgAAACAAAAAgCAYAAABzenr0AAAAGXRFWHRTb2Z0d2FyZQBBZG9iZSBJbWFnZVJlYWR5ccllPAAAAyhpVFh0WE1MOmNvbS5hZG9iZS54bXAAAAAAADw/eHBhY2tldCBiZWdpbj0i77u/IiBpZD0iVzVNME1wQ2VoaUh6cmVTek5UY3prYzlkIj8+IDx4OnhtcG1ldGEgeG1sbnM6eD0iYWRvYmU6bnM6bWV0YS8iIHg6eG1wdGs9IkFkb2JlIFhNUCBDb3JlIDkuMC1jMDAwIDc5LmRhNGE3ZTVlZiwgMjAyMi8xMS8yMi0xMzo1MDowNyAgICAgICAgIj4gPHJkZjpSREYgeG1sbnM6cmRmPSJodHRwOi8vd3d3LnczLm9yZy8xOTk5LzAyLzIyLXJkZi1zeW50YXgtbnMjIj4gPHJkZjpEZXNjcmlwdGlvbiByZGY6YWJvdXQ9IiIgeG1sbnM6eG1wPSJodHRwOi8vbnMuYWRvYmUuY29tL3hhcC8xLjAvIiB4bWxuczp4bXBNTT0iaHR0cDovL25zLmFkb2JlLmNvbS94YXAvMS4wL21tLyIgeG1sbnM6c3RSZWY9Imh0dHA6Ly9ucy5hZG9iZS5jb20veGFwLzEuMC9zVHlwZS9SZXNvdXJjZVJlZiMiIHhtcDpDcmVhdG9yVG9vbD0iQWRvYmUgUGhvdG9zaG9wIDI0LjEgKE1hY2ludG9zaCkiIHhtcE1NOkluc3RhbmNlSUQ9InhtcC5paWQ6QzQ4Q0IxMkFBRUZDMTFFREIwRThFMzc3OTlDRTMyNUIiIHhtcE1NOkRvY3VtZW50SUQ9InhtcC5kaWQ6QzQ4Q0IxMkJBRUZDMTFFREIwRThFMzc3OTlDRTMyNUIiPiA8eG1wTU06RGVyaXZlZEZyb20gc3RSZWY6aW5zdGFuY2VJRD0ieG1wLmlpZDpDNDhDQjEyOEFFRkMxMUVEQjBFOEUzNzc5OUNFMzI1QiIgc3RSZWY6ZG9jdW1lbnRJRD0ieG1wLmRpZDpDNDhDQjEyOUFFRkMxMUVEQjBFOEUzNzc5OUNFMzI1QiIvPiA8L3JkZjpEZXNjcmlwdGlvbj4gPC9yZGY6UkRGPiA8L3g6eG1wbWV0YT4gPD94cGFja2V0IGVuZD0iciI/PgbFSzAAAAFGSURBVHjaYvz//z/DQAImhgEGow4gywHLD2zON8gPeN+9dk4/pQ5gJDURzty2or513awGGP/RnH2MdAsBdMurAlMbKY4DUAgQg2dsXV4vm+z4H4anb1nWQKxefHhALSfKAbS0nKADaG05XgfQw3KcDqCX5VgdQE/LQRilIELP50byWheSXYMmUrPo1ZBVuqAqrXABoyS8/fSBgXN90nl6lP/ryyc7GqtqH0ApCT99+ypArwqIj4v7A9a6ABj/DW3rZ9fTMgqkhMUfwHyPtSgGJTrkRAhKlLRMhMwNDQ0oLjRR0z3AyczGePjGOQcQ//D1sw5cLOwMJqo6B2kRHRgOoLcjsDqAno7A6QB6OQKvA+jhCIIOoLUjiHIALkeI8wp+1FVUP0GXJhm2ckI/z/89XZpkuBzRuWrWBKrWhqM9oxHpAIAAAwBV1hmIioz+GAAAAABJRU5ErkJggg==\n",
      "https://www.saucedemo.com/static/media/sauce-backpack-1200x1500.0a0b85a3.jpg\n"
     ]
    }
   ],
   "source": [
    "images = driver.find_elements(By.TAG_NAME, \"img\")\n",
    "\n",
    "for img in images:\n",
    "    print(img.get_attribute('src'))"
   ]
  },
  {
   "cell_type": "markdown",
   "id": "47f80bf3",
   "metadata": {},
   "source": [
    "# By LinkText (also known as anchor tag starting with <a> </a>)"
   ]
  },
  {
   "cell_type": "code",
   "execution_count": 9,
   "id": "4a5e36fe",
   "metadata": {},
   "outputs": [],
   "source": [
    "# Find the link with the text 'LinkedIn' and click it\n",
    "link = driver.find_element(By.LINK_TEXT, 'LinkedIn')\n",
    "link.click()  # This actually performs the click action"
   ]
  },
  {
   "cell_type": "markdown",
   "id": "ae5dd620",
   "metadata": {},
   "source": [
    "# BY XPath"
   ]
  },
  {
   "cell_type": "code",
   "execution_count": 11,
   "id": "1e3e4031",
   "metadata": {},
   "outputs": [],
   "source": [
    "# Find the \"Add to Cart\" button for the item by XPATH and click it\n",
    "basket = driver.find_element(By.XPATH, '//*[@id=\"add-to-cart-sauce-labs-bike-light\"]')\n",
    "basket.click()  # This actually performs the click action\n"
   ]
  },
  {
   "cell_type": "code",
   "execution_count": 12,
   "id": "6b16b3ce",
   "metadata": {},
   "outputs": [],
   "source": [
    "bucket = driver.find_element(By.XPATH, '//*[@id=\"shopping_cart_container\"]')\n",
    "bucket.click()"
   ]
  },
  {
   "cell_type": "code",
   "execution_count": null,
   "id": "9c5e8c42",
   "metadata": {},
   "outputs": [],
   "source": []
  },
  {
   "cell_type": "code",
   "execution_count": null,
   "id": "6956c5f7",
   "metadata": {},
   "outputs": [],
   "source": []
  },
  {
   "cell_type": "code",
   "execution_count": null,
   "id": "56e46029",
   "metadata": {},
   "outputs": [],
   "source": []
  },
  {
   "cell_type": "code",
   "execution_count": null,
   "id": "abb3610e",
   "metadata": {},
   "outputs": [],
   "source": [
    "# quitting browser\n",
    "driver.quit"
   ]
  }
 ],
 "metadata": {
  "kernelspec": {
   "display_name": "Python 3 (ipykernel)",
   "language": "python",
   "name": "python3"
  },
  "language_info": {
   "codemirror_mode": {
    "name": "ipython",
    "version": 3
   },
   "file_extension": ".py",
   "mimetype": "text/x-python",
   "name": "python",
   "nbconvert_exporter": "python",
   "pygments_lexer": "ipython3",
   "version": "3.9.13"
  }
 },
 "nbformat": 4,
 "nbformat_minor": 5
}
